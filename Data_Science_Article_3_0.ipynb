{
  "nbformat": 4,
  "nbformat_minor": 0,
  "metadata": {
    "colab": {
      "name": "Data Science Article 3.0",
      "provenance": [],
      "collapsed_sections": [],
      "authorship_tag": "ABX9TyPiPfimXmDu4QFli74XeAQ/",
      "include_colab_link": true
    },
    "kernelspec": {
      "name": "python3",
      "display_name": "Python 3"
    },
    "language_info": {
      "name": "python"
    }
  },
  "cells": [
    {
      "cell_type": "markdown",
      "metadata": {
        "id": "view-in-github",
        "colab_type": "text"
      },
      "source": [
        "<a href=\"https://colab.research.google.com/github/mojo8585/Intro-To-Pandas-Profiling/blob/main/Data_Science_Article_3_0.ipynb\" target=\"_parent\"><img src=\"https://colab.research.google.com/assets/colab-badge.svg\" alt=\"Open In Colab\"/></a>"
      ]
    },
    {
      "cell_type": "markdown",
      "metadata": {
        "id": "nN0Rmzf3r6yv"
      },
      "source": [
        "# Intro to Pickling\n",
        "\n",
        "\n"
      ]
    },
    {
      "cell_type": "code",
      "metadata": {
        "id": "J41ocIuF2BXc"
      },
      "source": [
        "#import the packages"
      ],
      "execution_count": null,
      "outputs": []
    },
    {
      "cell_type": "code",
      "metadata": {
        "id": "9IS8WbEK2AX1"
      },
      "source": [
        "import pandas as pd\n",
        "import pickle\n",
        "import numpy as np\n",
        "import seaborn as sns #visualisation\n",
        "import matplotlib.pyplot as plt #visualisation\n",
        "%matplotlib inline \n",
        "sns.set(color_codes=True)"
      ],
      "execution_count": 40,
      "outputs": []
    },
    {
      "cell_type": "code",
      "metadata": {
        "id": "G5Fd3pjTsSMs"
      },
      "source": [
        "#loading the file"
      ],
      "execution_count": null,
      "outputs": []
    },
    {
      "cell_type": "code",
      "metadata": {
        "colab": {
          "resources": {
            "http://localhost:8080/nbextensions/google.colab/files.js": {
              "data": "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",
              "ok": true,
              "headers": [
                [
                  "content-type",
                  "application/javascript"
                ]
              ],
              "status": 200,
              "status_text": ""
            }
          },
          "base_uri": "https://localhost:8080/",
          "height": 72
        },
        "id": "LMuYn1HZdLv2",
        "outputId": "ce99c2f2-c33b-443f-9d96-772dbe4c0a61"
      },
      "source": [
        "import io\n",
        "from google.colab import files\n",
        "uploaded = files.upload()"
      ],
      "execution_count": 2,
      "outputs": [
        {
          "output_type": "display_data",
          "data": {
            "text/html": [
              "\n",
              "     <input type=\"file\" id=\"files-89d759e0-7685-46af-bba8-6db217b4afb3\" name=\"files[]\" multiple disabled\n",
              "        style=\"border:none\" />\n",
              "     <output id=\"result-89d759e0-7685-46af-bba8-6db217b4afb3\">\n",
              "      Upload widget is only available when the cell has been executed in the\n",
              "      current browser session. Please rerun this cell to enable.\n",
              "      </output>\n",
              "      <script src=\"/nbextensions/google.colab/files.js\"></script> "
            ],
            "text/plain": [
              "<IPython.core.display.HTML object>"
            ]
          },
          "metadata": {
            "tags": []
          }
        },
        {
          "output_type": "stream",
          "text": [
            "Saving world-happiness-report.csv to world-happiness-report.csv\n"
          ],
          "name": "stdout"
        }
      ]
    },
    {
      "cell_type": "code",
      "metadata": {
        "id": "c_OHepY0dLyo"
      },
      "source": [
        "#just taking a look at the file to ensure that everything is loaded properly"
      ],
      "execution_count": null,
      "outputs": []
    },
    {
      "cell_type": "code",
      "metadata": {
        "colab": {
          "base_uri": "https://localhost:8080/",
          "height": 436
        },
        "id": "ze7IFjxddL1Z",
        "outputId": "ab042bf6-1348-4680-89cc-e2d5f6a8be66"
      },
      "source": [
        "happy_data = pd.read_csv('world-happiness-report.csv', low_memory=False)\n",
        "happy_data"
      ],
      "execution_count": 3,
      "outputs": [
        {
          "output_type": "execute_result",
          "data": {
            "text/html": [
              "<div>\n",
              "<style scoped>\n",
              "    .dataframe tbody tr th:only-of-type {\n",
              "        vertical-align: middle;\n",
              "    }\n",
              "\n",
              "    .dataframe tbody tr th {\n",
              "        vertical-align: top;\n",
              "    }\n",
              "\n",
              "    .dataframe thead th {\n",
              "        text-align: right;\n",
              "    }\n",
              "</style>\n",
              "<table border=\"1\" class=\"dataframe\">\n",
              "  <thead>\n",
              "    <tr style=\"text-align: right;\">\n",
              "      <th></th>\n",
              "      <th>Country name</th>\n",
              "      <th>year</th>\n",
              "      <th>Life Ladder</th>\n",
              "      <th>Log GDP per capita</th>\n",
              "      <th>Social support</th>\n",
              "      <th>Healthy life expectancy at birth</th>\n",
              "      <th>Freedom to make life choices</th>\n",
              "      <th>Generosity</th>\n",
              "      <th>Perceptions of corruption</th>\n",
              "      <th>Positive affect</th>\n",
              "      <th>Negative affect</th>\n",
              "    </tr>\n",
              "  </thead>\n",
              "  <tbody>\n",
              "    <tr>\n",
              "      <th>0</th>\n",
              "      <td>Afghanistan</td>\n",
              "      <td>2008</td>\n",
              "      <td>3.724</td>\n",
              "      <td>7.370</td>\n",
              "      <td>0.451</td>\n",
              "      <td>50.80</td>\n",
              "      <td>0.718</td>\n",
              "      <td>0.168</td>\n",
              "      <td>0.882</td>\n",
              "      <td>0.518</td>\n",
              "      <td>0.258</td>\n",
              "    </tr>\n",
              "    <tr>\n",
              "      <th>1</th>\n",
              "      <td>Afghanistan</td>\n",
              "      <td>2009</td>\n",
              "      <td>4.402</td>\n",
              "      <td>7.540</td>\n",
              "      <td>0.552</td>\n",
              "      <td>51.20</td>\n",
              "      <td>0.679</td>\n",
              "      <td>0.190</td>\n",
              "      <td>0.850</td>\n",
              "      <td>0.584</td>\n",
              "      <td>0.237</td>\n",
              "    </tr>\n",
              "    <tr>\n",
              "      <th>2</th>\n",
              "      <td>Afghanistan</td>\n",
              "      <td>2010</td>\n",
              "      <td>4.758</td>\n",
              "      <td>7.647</td>\n",
              "      <td>0.539</td>\n",
              "      <td>51.60</td>\n",
              "      <td>0.600</td>\n",
              "      <td>0.121</td>\n",
              "      <td>0.707</td>\n",
              "      <td>0.618</td>\n",
              "      <td>0.275</td>\n",
              "    </tr>\n",
              "    <tr>\n",
              "      <th>3</th>\n",
              "      <td>Afghanistan</td>\n",
              "      <td>2011</td>\n",
              "      <td>3.832</td>\n",
              "      <td>7.620</td>\n",
              "      <td>0.521</td>\n",
              "      <td>51.92</td>\n",
              "      <td>0.496</td>\n",
              "      <td>0.162</td>\n",
              "      <td>0.731</td>\n",
              "      <td>0.611</td>\n",
              "      <td>0.267</td>\n",
              "    </tr>\n",
              "    <tr>\n",
              "      <th>4</th>\n",
              "      <td>Afghanistan</td>\n",
              "      <td>2012</td>\n",
              "      <td>3.783</td>\n",
              "      <td>7.705</td>\n",
              "      <td>0.521</td>\n",
              "      <td>52.24</td>\n",
              "      <td>0.531</td>\n",
              "      <td>0.236</td>\n",
              "      <td>0.776</td>\n",
              "      <td>0.710</td>\n",
              "      <td>0.268</td>\n",
              "    </tr>\n",
              "    <tr>\n",
              "      <th>...</th>\n",
              "      <td>...</td>\n",
              "      <td>...</td>\n",
              "      <td>...</td>\n",
              "      <td>...</td>\n",
              "      <td>...</td>\n",
              "      <td>...</td>\n",
              "      <td>...</td>\n",
              "      <td>...</td>\n",
              "      <td>...</td>\n",
              "      <td>...</td>\n",
              "      <td>...</td>\n",
              "    </tr>\n",
              "    <tr>\n",
              "      <th>1944</th>\n",
              "      <td>Zimbabwe</td>\n",
              "      <td>2016</td>\n",
              "      <td>3.735</td>\n",
              "      <td>7.984</td>\n",
              "      <td>0.768</td>\n",
              "      <td>54.40</td>\n",
              "      <td>0.733</td>\n",
              "      <td>-0.095</td>\n",
              "      <td>0.724</td>\n",
              "      <td>0.738</td>\n",
              "      <td>0.209</td>\n",
              "    </tr>\n",
              "    <tr>\n",
              "      <th>1945</th>\n",
              "      <td>Zimbabwe</td>\n",
              "      <td>2017</td>\n",
              "      <td>3.638</td>\n",
              "      <td>8.016</td>\n",
              "      <td>0.754</td>\n",
              "      <td>55.00</td>\n",
              "      <td>0.753</td>\n",
              "      <td>-0.098</td>\n",
              "      <td>0.751</td>\n",
              "      <td>0.806</td>\n",
              "      <td>0.224</td>\n",
              "    </tr>\n",
              "    <tr>\n",
              "      <th>1946</th>\n",
              "      <td>Zimbabwe</td>\n",
              "      <td>2018</td>\n",
              "      <td>3.616</td>\n",
              "      <td>8.049</td>\n",
              "      <td>0.775</td>\n",
              "      <td>55.60</td>\n",
              "      <td>0.763</td>\n",
              "      <td>-0.068</td>\n",
              "      <td>0.844</td>\n",
              "      <td>0.710</td>\n",
              "      <td>0.212</td>\n",
              "    </tr>\n",
              "    <tr>\n",
              "      <th>1947</th>\n",
              "      <td>Zimbabwe</td>\n",
              "      <td>2019</td>\n",
              "      <td>2.694</td>\n",
              "      <td>7.950</td>\n",
              "      <td>0.759</td>\n",
              "      <td>56.20</td>\n",
              "      <td>0.632</td>\n",
              "      <td>-0.064</td>\n",
              "      <td>0.831</td>\n",
              "      <td>0.716</td>\n",
              "      <td>0.235</td>\n",
              "    </tr>\n",
              "    <tr>\n",
              "      <th>1948</th>\n",
              "      <td>Zimbabwe</td>\n",
              "      <td>2020</td>\n",
              "      <td>3.160</td>\n",
              "      <td>7.829</td>\n",
              "      <td>0.717</td>\n",
              "      <td>56.80</td>\n",
              "      <td>0.643</td>\n",
              "      <td>-0.009</td>\n",
              "      <td>0.789</td>\n",
              "      <td>0.703</td>\n",
              "      <td>0.346</td>\n",
              "    </tr>\n",
              "  </tbody>\n",
              "</table>\n",
              "<p>1949 rows × 11 columns</p>\n",
              "</div>"
            ],
            "text/plain": [
              "     Country name  year  ...  Positive affect  Negative affect\n",
              "0     Afghanistan  2008  ...            0.518            0.258\n",
              "1     Afghanistan  2009  ...            0.584            0.237\n",
              "2     Afghanistan  2010  ...            0.618            0.275\n",
              "3     Afghanistan  2011  ...            0.611            0.267\n",
              "4     Afghanistan  2012  ...            0.710            0.268\n",
              "...           ...   ...  ...              ...              ...\n",
              "1944     Zimbabwe  2016  ...            0.738            0.209\n",
              "1945     Zimbabwe  2017  ...            0.806            0.224\n",
              "1946     Zimbabwe  2018  ...            0.710            0.212\n",
              "1947     Zimbabwe  2019  ...            0.716            0.235\n",
              "1948     Zimbabwe  2020  ...            0.703            0.346\n",
              "\n",
              "[1949 rows x 11 columns]"
            ]
          },
          "metadata": {
            "tags": []
          },
          "execution_count": 3
        }
      ]
    },
    {
      "cell_type": "code",
      "metadata": {
        "id": "FXN3yJzzdL4T"
      },
      "source": [
        "#looking how large the data set is "
      ],
      "execution_count": null,
      "outputs": []
    },
    {
      "cell_type": "code",
      "metadata": {
        "id": "n7gkTD_h5Az5"
      },
      "source": [
        ""
      ],
      "execution_count": null,
      "outputs": []
    },
    {
      "cell_type": "code",
      "metadata": {
        "colab": {
          "base_uri": "https://localhost:8080/"
        },
        "id": "zjCVBIcpdL6r",
        "outputId": "e7c7aef8-d4d6-4c5b-f22d-cd55bbff3dd2"
      },
      "source": [
        "happy_data.shape"
      ],
      "execution_count": 4,
      "outputs": [
        {
          "output_type": "execute_result",
          "data": {
            "text/plain": [
              "(1949, 11)"
            ]
          },
          "metadata": {
            "tags": []
          },
          "execution_count": 4
        }
      ]
    },
    {
      "cell_type": "code",
      "metadata": {
        "id": "ClBD5KnHdL9u"
      },
      "source": [
        "#listing the names of the columns to see if I want to drop any "
      ],
      "execution_count": null,
      "outputs": []
    },
    {
      "cell_type": "code",
      "metadata": {
        "colab": {
          "base_uri": "https://localhost:8080/"
        },
        "id": "THRurB92dMAS",
        "outputId": "0f6627f7-1ee7-4469-aea9-506cd5f3801d"
      },
      "source": [
        "happy_data.columns"
      ],
      "execution_count": 5,
      "outputs": [
        {
          "output_type": "execute_result",
          "data": {
            "text/plain": [
              "Index(['Country name', 'year', 'Life Ladder', 'Log GDP per capita',\n",
              "       'Social support', 'Healthy life expectancy at birth',\n",
              "       'Freedom to make life choices', 'Generosity',\n",
              "       'Perceptions of corruption', 'Positive affect', 'Negative affect'],\n",
              "      dtype='object')"
            ]
          },
          "metadata": {
            "tags": []
          },
          "execution_count": 5
        }
      ]
    },
    {
      "cell_type": "code",
      "metadata": {
        "id": "p3P4gndBdMDD"
      },
      "source": [
        ""
      ],
      "execution_count": null,
      "outputs": []
    },
    {
      "cell_type": "code",
      "metadata": {
        "id": "ywOGOyK4dMIu"
      },
      "source": [
        "#Looking at the information about my data"
      ],
      "execution_count": null,
      "outputs": []
    },
    {
      "cell_type": "code",
      "metadata": {
        "colab": {
          "base_uri": "https://localhost:8080/"
        },
        "id": "87n8FvvndMLl",
        "outputId": "5e2c2155-f61f-4d42-b661-4c492295457e"
      },
      "source": [
        "happy_data.info()"
      ],
      "execution_count": 7,
      "outputs": [
        {
          "output_type": "stream",
          "text": [
            "<class 'pandas.core.frame.DataFrame'>\n",
            "RangeIndex: 1949 entries, 0 to 1948\n",
            "Data columns (total 11 columns):\n",
            " #   Column                            Non-Null Count  Dtype  \n",
            "---  ------                            --------------  -----  \n",
            " 0   Country name                      1949 non-null   object \n",
            " 1   year                              1949 non-null   int64  \n",
            " 2   Life Ladder                       1949 non-null   float64\n",
            " 3   Log GDP per capita                1913 non-null   float64\n",
            " 4   Social support                    1936 non-null   float64\n",
            " 5   Healthy life expectancy at birth  1894 non-null   float64\n",
            " 6   Freedom to make life choices      1917 non-null   float64\n",
            " 7   Generosity                        1860 non-null   float64\n",
            " 8   Perceptions of corruption         1839 non-null   float64\n",
            " 9   Positive affect                   1927 non-null   float64\n",
            " 10  Negative affect                   1933 non-null   float64\n",
            "dtypes: float64(9), int64(1), object(1)\n",
            "memory usage: 167.6+ KB\n"
          ],
          "name": "stdout"
        }
      ]
    },
    {
      "cell_type": "code",
      "metadata": {
        "id": "JObevhapdMOb"
      },
      "source": [
        "# something does not look entirely correct for the counts, lets look deeper"
      ],
      "execution_count": null,
      "outputs": []
    },
    {
      "cell_type": "code",
      "metadata": {
        "colab": {
          "base_uri": "https://localhost:8080/"
        },
        "id": "3GMeqqKhdMRa",
        "outputId": "33d4970e-9aae-47ab-8f09-c01b12bacd07"
      },
      "source": [
        "happy_data.count()"
      ],
      "execution_count": 8,
      "outputs": [
        {
          "output_type": "execute_result",
          "data": {
            "text/plain": [
              "Country name                        1949\n",
              "year                                1949\n",
              "Life Ladder                         1949\n",
              "Log GDP per capita                  1913\n",
              "Social support                      1936\n",
              "Healthy life expectancy at birth    1894\n",
              "Freedom to make life choices        1917\n",
              "Generosity                          1860\n",
              "Perceptions of corruption           1839\n",
              "Positive affect                     1927\n",
              "Negative affect                     1933\n",
              "dtype: int64"
            ]
          },
          "metadata": {
            "tags": []
          },
          "execution_count": 8
        }
      ]
    },
    {
      "cell_type": "code",
      "metadata": {
        "id": "jf-KPHfndMUh"
      },
      "source": [
        ""
      ],
      "execution_count": null,
      "outputs": []
    },
    {
      "cell_type": "code",
      "metadata": {
        "id": "_3LsYIKsdMf8"
      },
      "source": [
        "#lets see if there are null values in this count, we should drop these! "
      ],
      "execution_count": null,
      "outputs": []
    },
    {
      "cell_type": "code",
      "metadata": {
        "colab": {
          "base_uri": "https://localhost:8080/"
        },
        "id": "AhPBxGvvdMj5",
        "outputId": "eeecc043-908e-4663-a80a-be5f75ea072a"
      },
      "source": [
        "print(happy_data.isnull().sum())"
      ],
      "execution_count": 11,
      "outputs": [
        {
          "output_type": "stream",
          "text": [
            "Country name                          0\n",
            "year                                  0\n",
            "Life Ladder                           0\n",
            "Log GDP per capita                   36\n",
            "Social support                       13\n",
            "Healthy life expectancy at birth     55\n",
            "Freedom to make life choices         32\n",
            "Generosity                           89\n",
            "Perceptions of corruption           110\n",
            "Positive affect                      22\n",
            "Negative affect                      16\n",
            "dtype: int64\n"
          ],
          "name": "stdout"
        }
      ]
    },
    {
      "cell_type": "code",
      "metadata": {
        "id": "-jdtoSwJeDsk"
      },
      "source": [
        "#looking at the count all of the null values have been dropped and we are ready to proceed "
      ],
      "execution_count": null,
      "outputs": []
    },
    {
      "cell_type": "code",
      "metadata": {
        "colab": {
          "base_uri": "https://localhost:8080/"
        },
        "id": "M2ZR6jGpeDpA",
        "outputId": "01946aa3-10d3-442c-c796-aa601a5ac8dd"
      },
      "source": [
        "happy_data = happy_data.dropna() \n",
        "happy_data.count()"
      ],
      "execution_count": 12,
      "outputs": [
        {
          "output_type": "execute_result",
          "data": {
            "text/plain": [
              "Country name                        1708\n",
              "year                                1708\n",
              "Life Ladder                         1708\n",
              "Log GDP per capita                  1708\n",
              "Social support                      1708\n",
              "Healthy life expectancy at birth    1708\n",
              "Freedom to make life choices        1708\n",
              "Generosity                          1708\n",
              "Perceptions of corruption           1708\n",
              "Positive affect                     1708\n",
              "Negative affect                     1708\n",
              "dtype: int64"
            ]
          },
          "metadata": {
            "tags": []
          },
          "execution_count": 12
        }
      ]
    },
    {
      "cell_type": "code",
      "metadata": {
        "id": "jXdm_mLWeDlV"
      },
      "source": [
        "#just double checking everything"
      ],
      "execution_count": null,
      "outputs": []
    },
    {
      "cell_type": "code",
      "metadata": {
        "colab": {
          "base_uri": "https://localhost:8080/"
        },
        "id": "pzPAbriteDg8",
        "outputId": "c18a9182-cb31-4c5a-e60d-71b14f966712"
      },
      "source": [
        "print(happy_data.isnull().sum()) "
      ],
      "execution_count": 13,
      "outputs": [
        {
          "output_type": "stream",
          "text": [
            "Country name                        0\n",
            "year                                0\n",
            "Life Ladder                         0\n",
            "Log GDP per capita                  0\n",
            "Social support                      0\n",
            "Healthy life expectancy at birth    0\n",
            "Freedom to make life choices        0\n",
            "Generosity                          0\n",
            "Perceptions of corruption           0\n",
            "Positive affect                     0\n",
            "Negative affect                     0\n",
            "dtype: int64\n"
          ],
          "name": "stdout"
        }
      ]
    },
    {
      "cell_type": "code",
      "metadata": {
        "id": "Fu6osQ-NeDdF"
      },
      "source": [
        ""
      ],
      "execution_count": null,
      "outputs": []
    },
    {
      "cell_type": "markdown",
      "metadata": {
        "id": "7VpwwAFKt8zz"
      },
      "source": [
        "Now we are prepped to make changes for analysis!"
      ]
    },
    {
      "cell_type": "code",
      "metadata": {
        "id": "iXgAJUBauEsn"
      },
      "source": [
        "#changing the data to categorical for cluster analysis "
      ],
      "execution_count": null,
      "outputs": []
    },
    {
      "cell_type": "code",
      "metadata": {
        "colab": {
          "base_uri": "https://localhost:8080/"
        },
        "id": "HvqxsqUCeDaB",
        "outputId": "37d1505e-ef11-43e5-d0aa-11ff7a117bcd"
      },
      "source": [
        "happy_cats = happy_data[['Country name','year', 'Life Ladder', 'Log GDP per capita', 'Social support', 'Healthy life expectancy at birth', 'Freedom to make life choices','Generosity', 'Perceptions of corruption', 'Positive affect', 'Negative affect']].astype('category')\n",
        "\n",
        "happy_cats.dtypes"
      ],
      "execution_count": 14,
      "outputs": [
        {
          "output_type": "execute_result",
          "data": {
            "text/plain": [
              "Country name                        category\n",
              "year                                category\n",
              "Life Ladder                         category\n",
              "Log GDP per capita                  category\n",
              "Social support                      category\n",
              "Healthy life expectancy at birth    category\n",
              "Freedom to make life choices        category\n",
              "Generosity                          category\n",
              "Perceptions of corruption           category\n",
              "Positive affect                     category\n",
              "Negative affect                     category\n",
              "dtype: object"
            ]
          },
          "metadata": {
            "tags": []
          },
          "execution_count": 14
        }
      ]
    },
    {
      "cell_type": "code",
      "metadata": {
        "id": "e-6tn3mdeDWG"
      },
      "source": [
        ""
      ],
      "execution_count": null,
      "outputs": []
    },
    {
      "cell_type": "code",
      "metadata": {
        "colab": {
          "base_uri": "https://localhost:8080/"
        },
        "id": "SOk81iaReDSH",
        "outputId": "9bff5ca3-9ced-4a65-da36-c30bbab8f814"
      },
      "source": [
        "happy_cat_codes = pd.DataFrame()\n",
        "happy_cat_cols = happy_cats.select_dtypes('category')\n",
        "\n",
        "for col in happy_cat_cols:\n",
        "  happy_cat_codes[col] = happy_cats[col].cat.codes\n",
        "\n",
        "\n",
        "\n",
        "print(happy_cat_codes.shape)\n",
        "print(happy_cat_codes.dtypes)"
      ],
      "execution_count": 15,
      "outputs": [
        {
          "output_type": "stream",
          "text": [
            "(1708, 11)\n",
            "Country name                        int16\n",
            "year                                 int8\n",
            "Life Ladder                         int16\n",
            "Log GDP per capita                  int16\n",
            "Social support                      int16\n",
            "Healthy life expectancy at birth    int16\n",
            "Freedom to make life choices        int16\n",
            "Generosity                          int16\n",
            "Perceptions of corruption           int16\n",
            "Positive affect                     int16\n",
            "Negative affect                     int16\n",
            "dtype: object\n"
          ],
          "name": "stdout"
        }
      ]
    },
    {
      "cell_type": "code",
      "metadata": {
        "id": "IhavZ3queDOZ"
      },
      "source": [
        ""
      ],
      "execution_count": null,
      "outputs": []
    },
    {
      "cell_type": "code",
      "metadata": {
        "colab": {
          "base_uri": "https://localhost:8080/",
          "height": 221
        },
        "id": "XOipQfcCeDK_",
        "outputId": "7b9dd95d-7a8e-4404-b106-8d708a7b8305"
      },
      "source": [
        "happy_cat_codes.head()"
      ],
      "execution_count": 16,
      "outputs": [
        {
          "output_type": "execute_result",
          "data": {
            "text/html": [
              "<div>\n",
              "<style scoped>\n",
              "    .dataframe tbody tr th:only-of-type {\n",
              "        vertical-align: middle;\n",
              "    }\n",
              "\n",
              "    .dataframe tbody tr th {\n",
              "        vertical-align: top;\n",
              "    }\n",
              "\n",
              "    .dataframe thead th {\n",
              "        text-align: right;\n",
              "    }\n",
              "</style>\n",
              "<table border=\"1\" class=\"dataframe\">\n",
              "  <thead>\n",
              "    <tr style=\"text-align: right;\">\n",
              "      <th></th>\n",
              "      <th>Country name</th>\n",
              "      <th>year</th>\n",
              "      <th>Life Ladder</th>\n",
              "      <th>Log GDP per capita</th>\n",
              "      <th>Social support</th>\n",
              "      <th>Healthy life expectancy at birth</th>\n",
              "      <th>Freedom to make life choices</th>\n",
              "      <th>Generosity</th>\n",
              "      <th>Perceptions of corruption</th>\n",
              "      <th>Positive affect</th>\n",
              "      <th>Negative affect</th>\n",
              "    </tr>\n",
              "  </thead>\n",
              "  <tbody>\n",
              "    <tr>\n",
              "      <th>0</th>\n",
              "      <td>0</td>\n",
              "      <td>3</td>\n",
              "      <td>88</td>\n",
              "      <td>85</td>\n",
              "      <td>16</td>\n",
              "      <td>117</td>\n",
              "      <td>275</td>\n",
              "      <td>434</td>\n",
              "      <td>461</td>\n",
              "      <td>47</td>\n",
              "      <td>143</td>\n",
              "    </tr>\n",
              "    <tr>\n",
              "      <th>1</th>\n",
              "      <td>0</td>\n",
              "      <td>4</td>\n",
              "      <td>292</td>\n",
              "      <td>123</td>\n",
              "      <td>58</td>\n",
              "      <td>123</td>\n",
              "      <td>237</td>\n",
              "      <td>447</td>\n",
              "      <td>429</td>\n",
              "      <td>106</td>\n",
              "      <td>122</td>\n",
              "    </tr>\n",
              "    <tr>\n",
              "      <th>2</th>\n",
              "      <td>0</td>\n",
              "      <td>5</td>\n",
              "      <td>428</td>\n",
              "      <td>162</td>\n",
              "      <td>52</td>\n",
              "      <td>133</td>\n",
              "      <td>163</td>\n",
              "      <td>392</td>\n",
              "      <td>293</td>\n",
              "      <td>140</td>\n",
              "      <td>160</td>\n",
              "    </tr>\n",
              "    <tr>\n",
              "      <th>3</th>\n",
              "      <td>0</td>\n",
              "      <td>6</td>\n",
              "      <td>116</td>\n",
              "      <td>152</td>\n",
              "      <td>40</td>\n",
              "      <td>139</td>\n",
              "      <td>78</td>\n",
              "      <td>428</td>\n",
              "      <td>313</td>\n",
              "      <td>133</td>\n",
              "      <td>152</td>\n",
              "    </tr>\n",
              "    <tr>\n",
              "      <th>4</th>\n",
              "      <td>0</td>\n",
              "      <td>7</td>\n",
              "      <td>101</td>\n",
              "      <td>181</td>\n",
              "      <td>40</td>\n",
              "      <td>145</td>\n",
              "      <td>106</td>\n",
              "      <td>476</td>\n",
              "      <td>356</td>\n",
              "      <td>232</td>\n",
              "      <td>153</td>\n",
              "    </tr>\n",
              "  </tbody>\n",
              "</table>\n",
              "</div>"
            ],
            "text/plain": [
              "   Country name  year  ...  Positive affect  Negative affect\n",
              "0             0     3  ...               47              143\n",
              "1             0     4  ...              106              122\n",
              "2             0     5  ...              140              160\n",
              "3             0     6  ...              133              152\n",
              "4             0     7  ...              232              153\n",
              "\n",
              "[5 rows x 11 columns]"
            ]
          },
          "metadata": {
            "tags": []
          },
          "execution_count": 16
        }
      ]
    },
    {
      "cell_type": "code",
      "metadata": {
        "id": "b4pN74zJeDHZ"
      },
      "source": [
        ""
      ],
      "execution_count": null,
      "outputs": []
    },
    {
      "cell_type": "code",
      "metadata": {
        "colab": {
          "base_uri": "https://localhost:8080/",
          "height": 221
        },
        "id": "DT9A5giLeDDh",
        "outputId": "f928a09b-9f51-4b1e-c501-49a4ea02bb75"
      },
      "source": [
        "from sklearn.cluster import KMeans\n",
        "\n",
        "#fitting the model\n",
        "kmeans5 = KMeans(n_clusters=5).fit(happy_cat_codes)\n",
        "\n",
        "#adding new columns to the dataframe\n",
        "happy_cats['kmeans5'] = kmeans5.labels_\n",
        "happy_cats.head()"
      ],
      "execution_count": 18,
      "outputs": [
        {
          "output_type": "execute_result",
          "data": {
            "text/html": [
              "<div>\n",
              "<style scoped>\n",
              "    .dataframe tbody tr th:only-of-type {\n",
              "        vertical-align: middle;\n",
              "    }\n",
              "\n",
              "    .dataframe tbody tr th {\n",
              "        vertical-align: top;\n",
              "    }\n",
              "\n",
              "    .dataframe thead th {\n",
              "        text-align: right;\n",
              "    }\n",
              "</style>\n",
              "<table border=\"1\" class=\"dataframe\">\n",
              "  <thead>\n",
              "    <tr style=\"text-align: right;\">\n",
              "      <th></th>\n",
              "      <th>Country name</th>\n",
              "      <th>year</th>\n",
              "      <th>Life Ladder</th>\n",
              "      <th>Log GDP per capita</th>\n",
              "      <th>Social support</th>\n",
              "      <th>Healthy life expectancy at birth</th>\n",
              "      <th>Freedom to make life choices</th>\n",
              "      <th>Generosity</th>\n",
              "      <th>Perceptions of corruption</th>\n",
              "      <th>Positive affect</th>\n",
              "      <th>Negative affect</th>\n",
              "      <th>kmeans5</th>\n",
              "    </tr>\n",
              "  </thead>\n",
              "  <tbody>\n",
              "    <tr>\n",
              "      <th>0</th>\n",
              "      <td>Afghanistan</td>\n",
              "      <td>2008</td>\n",
              "      <td>3.724</td>\n",
              "      <td>7.370</td>\n",
              "      <td>0.451</td>\n",
              "      <td>50.80</td>\n",
              "      <td>0.718</td>\n",
              "      <td>0.168</td>\n",
              "      <td>0.882</td>\n",
              "      <td>0.518</td>\n",
              "      <td>0.258</td>\n",
              "      <td>3</td>\n",
              "    </tr>\n",
              "    <tr>\n",
              "      <th>1</th>\n",
              "      <td>Afghanistan</td>\n",
              "      <td>2009</td>\n",
              "      <td>4.402</td>\n",
              "      <td>7.540</td>\n",
              "      <td>0.552</td>\n",
              "      <td>51.20</td>\n",
              "      <td>0.679</td>\n",
              "      <td>0.190</td>\n",
              "      <td>0.850</td>\n",
              "      <td>0.584</td>\n",
              "      <td>0.237</td>\n",
              "      <td>3</td>\n",
              "    </tr>\n",
              "    <tr>\n",
              "      <th>2</th>\n",
              "      <td>Afghanistan</td>\n",
              "      <td>2010</td>\n",
              "      <td>4.758</td>\n",
              "      <td>7.647</td>\n",
              "      <td>0.539</td>\n",
              "      <td>51.60</td>\n",
              "      <td>0.600</td>\n",
              "      <td>0.121</td>\n",
              "      <td>0.707</td>\n",
              "      <td>0.618</td>\n",
              "      <td>0.275</td>\n",
              "      <td>3</td>\n",
              "    </tr>\n",
              "    <tr>\n",
              "      <th>3</th>\n",
              "      <td>Afghanistan</td>\n",
              "      <td>2011</td>\n",
              "      <td>3.832</td>\n",
              "      <td>7.620</td>\n",
              "      <td>0.521</td>\n",
              "      <td>51.92</td>\n",
              "      <td>0.496</td>\n",
              "      <td>0.162</td>\n",
              "      <td>0.731</td>\n",
              "      <td>0.611</td>\n",
              "      <td>0.267</td>\n",
              "      <td>3</td>\n",
              "    </tr>\n",
              "    <tr>\n",
              "      <th>4</th>\n",
              "      <td>Afghanistan</td>\n",
              "      <td>2012</td>\n",
              "      <td>3.783</td>\n",
              "      <td>7.705</td>\n",
              "      <td>0.521</td>\n",
              "      <td>52.24</td>\n",
              "      <td>0.531</td>\n",
              "      <td>0.236</td>\n",
              "      <td>0.776</td>\n",
              "      <td>0.710</td>\n",
              "      <td>0.268</td>\n",
              "      <td>3</td>\n",
              "    </tr>\n",
              "  </tbody>\n",
              "</table>\n",
              "</div>"
            ],
            "text/plain": [
              "  Country name  year Life Ladder  ... Positive affect Negative affect kmeans5\n",
              "0  Afghanistan  2008       3.724  ...           0.518           0.258       3\n",
              "1  Afghanistan  2009       4.402  ...           0.584           0.237       3\n",
              "2  Afghanistan  2010       4.758  ...           0.618           0.275       3\n",
              "3  Afghanistan  2011       3.832  ...           0.611           0.267       3\n",
              "4  Afghanistan  2012       3.783  ...           0.710           0.268       3\n",
              "\n",
              "[5 rows x 12 columns]"
            ]
          },
          "metadata": {
            "tags": []
          },
          "execution_count": 18
        }
      ]
    },
    {
      "cell_type": "code",
      "metadata": {
        "id": "Xi10TVx2eDAS"
      },
      "source": [
        ""
      ],
      "execution_count": null,
      "outputs": []
    },
    {
      "cell_type": "markdown",
      "metadata": {
        "id": "hIPpgMI-u_c7"
      },
      "source": [
        "Time to Pickle!"
      ]
    },
    {
      "cell_type": "code",
      "metadata": {
        "id": "WG9SsvShehxn"
      },
      "source": [
        "#name of the file we wish to be exported\n",
        "filename = 'happy_data.pckl'\n",
        "\n",
        "#Naming the file we want to go out, w means writing and b stands for binary \n",
        "outfile = open(filename, 'wb')"
      ],
      "execution_count": 23,
      "outputs": []
    },
    {
      "cell_type": "code",
      "metadata": {
        "id": "zM22Gnomehqm"
      },
      "source": [
        "#specifying the data that we want to pickle\n",
        "pickle.dump(happy_data,outfile)\n",
        "\n",
        "#closing the pickle\n",
        "outfile.close()"
      ],
      "execution_count": 25,
      "outputs": []
    },
    {
      "cell_type": "code",
      "metadata": {
        "id": "FfC_3wMgmR2a"
      },
      "source": [
        ""
      ],
      "execution_count": null,
      "outputs": []
    },
    {
      "cell_type": "code",
      "metadata": {
        "id": "mFJVLloVmRvp"
      },
      "source": [
        "#I am going to repeat the process for all manipulated data\n",
        "filename_1 = 'happy_cat_codes.pckl'\n",
        "outfile = open(filename_1, 'wb')"
      ],
      "execution_count": 28,
      "outputs": []
    },
    {
      "cell_type": "code",
      "metadata": {
        "id": "Hm9Xl7T4mRsq"
      },
      "source": [
        "pickle.dump(happy_cat_codes,outfile)\n",
        "outfile.close()"
      ],
      "execution_count": 29,
      "outputs": []
    },
    {
      "cell_type": "code",
      "metadata": {
        "id": "M7yBsP2kmRpO"
      },
      "source": [
        ""
      ],
      "execution_count": null,
      "outputs": []
    },
    {
      "cell_type": "code",
      "metadata": {
        "id": "xiHs65SlmRf8"
      },
      "source": [
        "filename_2 = 'happy_cat_cols.pckl'\n",
        "outfile = open(filename_2, 'wb')"
      ],
      "execution_count": 30,
      "outputs": []
    },
    {
      "cell_type": "code",
      "metadata": {
        "id": "njW-WXo7mYkx"
      },
      "source": [
        "pickle.dump(happy_cat_cols,outfile)\n",
        "outfile.close()"
      ],
      "execution_count": 31,
      "outputs": []
    },
    {
      "cell_type": "code",
      "metadata": {
        "id": "R1eQLTOwmYdy"
      },
      "source": [
        ""
      ],
      "execution_count": null,
      "outputs": []
    },
    {
      "cell_type": "code",
      "metadata": {
        "id": "QXCKFHSGmkrt"
      },
      "source": [
        "filename_3 = 'happy_cats.pckl'\n",
        "outfile = open(filename_3, 'wb')"
      ],
      "execution_count": 32,
      "outputs": []
    },
    {
      "cell_type": "code",
      "metadata": {
        "id": "aD97LAOWmkcw"
      },
      "source": [
        "pickle.dump(happy_cats,outfile)\n",
        "outfile.close()"
      ],
      "execution_count": 33,
      "outputs": []
    },
    {
      "cell_type": "code",
      "metadata": {
        "id": "MWYZnKf5ehnd"
      },
      "source": [
        "#Checking the directory to see if everything has been imported"
      ],
      "execution_count": null,
      "outputs": []
    },
    {
      "cell_type": "code",
      "metadata": {
        "colab": {
          "base_uri": "https://localhost:8080/"
        },
        "id": "Mr2404eklMJs",
        "outputId": "76f69f0d-36af-4bf0-8d83-574538b178ac"
      },
      "source": [
        "import os\n",
        "os.listdir('.')\n"
      ],
      "execution_count": 34,
      "outputs": [
        {
          "output_type": "execute_result",
          "data": {
            "text/plain": [
              "['.config',\n",
              " 'happy_data.pckl',\n",
              " 'happy_cat_codes.pckl',\n",
              " 'happy_cat_cols.pckl',\n",
              " 'world-happiness-report.csv',\n",
              " 'happy_cats.pckl',\n",
              " 'sample_data']"
            ]
          },
          "metadata": {
            "tags": []
          },
          "execution_count": 34
        }
      ]
    },
    {
      "cell_type": "code",
      "metadata": {
        "id": "MhZcTRTAehkm"
      },
      "source": [
        ""
      ],
      "execution_count": null,
      "outputs": []
    },
    {
      "cell_type": "code",
      "metadata": {
        "id": "45uGfW-_ehcU"
      },
      "source": [
        "#now reading everything back in to show how that works\n",
        "infile = open('happy_data.pckl','rb')\n",
        "new_happy = pickle.load(infile)\n",
        "infile.close()"
      ],
      "execution_count": 37,
      "outputs": []
    },
    {
      "cell_type": "code",
      "metadata": {
        "id": "841XyY_iwOPI"
      },
      "source": [
        "#renamed just to check "
      ],
      "execution_count": null,
      "outputs": []
    },
    {
      "cell_type": "code",
      "metadata": {
        "colab": {
          "base_uri": "https://localhost:8080/"
        },
        "id": "hrpFFLF0ehZN",
        "outputId": "2e31c363-b884-42fd-993c-2a0ff4ad540d"
      },
      "source": [
        "print(new_happy)"
      ],
      "execution_count": 38,
      "outputs": [
        {
          "output_type": "stream",
          "text": [
            "     Country name  year  ...  Positive affect  Negative affect\n",
            "0     Afghanistan  2008  ...            0.518            0.258\n",
            "1     Afghanistan  2009  ...            0.584            0.237\n",
            "2     Afghanistan  2010  ...            0.618            0.275\n",
            "3     Afghanistan  2011  ...            0.611            0.267\n",
            "4     Afghanistan  2012  ...            0.710            0.268\n",
            "...           ...   ...  ...              ...              ...\n",
            "1944     Zimbabwe  2016  ...            0.738            0.209\n",
            "1945     Zimbabwe  2017  ...            0.806            0.224\n",
            "1946     Zimbabwe  2018  ...            0.710            0.212\n",
            "1947     Zimbabwe  2019  ...            0.716            0.235\n",
            "1948     Zimbabwe  2020  ...            0.703            0.346\n",
            "\n",
            "[1708 rows x 11 columns]\n"
          ],
          "name": "stdout"
        }
      ]
    },
    {
      "cell_type": "code",
      "metadata": {
        "colab": {
          "base_uri": "https://localhost:8080/",
          "height": 221
        },
        "id": "EVbd8tHjehWV",
        "outputId": "f0dba13b-b5ed-4994-aeca-b02ef6cbb2c7"
      },
      "source": [
        "new_happy.head()"
      ],
      "execution_count": 39,
      "outputs": [
        {
          "output_type": "execute_result",
          "data": {
            "text/html": [
              "<div>\n",
              "<style scoped>\n",
              "    .dataframe tbody tr th:only-of-type {\n",
              "        vertical-align: middle;\n",
              "    }\n",
              "\n",
              "    .dataframe tbody tr th {\n",
              "        vertical-align: top;\n",
              "    }\n",
              "\n",
              "    .dataframe thead th {\n",
              "        text-align: right;\n",
              "    }\n",
              "</style>\n",
              "<table border=\"1\" class=\"dataframe\">\n",
              "  <thead>\n",
              "    <tr style=\"text-align: right;\">\n",
              "      <th></th>\n",
              "      <th>Country name</th>\n",
              "      <th>year</th>\n",
              "      <th>Life Ladder</th>\n",
              "      <th>Log GDP per capita</th>\n",
              "      <th>Social support</th>\n",
              "      <th>Healthy life expectancy at birth</th>\n",
              "      <th>Freedom to make life choices</th>\n",
              "      <th>Generosity</th>\n",
              "      <th>Perceptions of corruption</th>\n",
              "      <th>Positive affect</th>\n",
              "      <th>Negative affect</th>\n",
              "    </tr>\n",
              "  </thead>\n",
              "  <tbody>\n",
              "    <tr>\n",
              "      <th>0</th>\n",
              "      <td>Afghanistan</td>\n",
              "      <td>2008</td>\n",
              "      <td>3.724</td>\n",
              "      <td>7.370</td>\n",
              "      <td>0.451</td>\n",
              "      <td>50.80</td>\n",
              "      <td>0.718</td>\n",
              "      <td>0.168</td>\n",
              "      <td>0.882</td>\n",
              "      <td>0.518</td>\n",
              "      <td>0.258</td>\n",
              "    </tr>\n",
              "    <tr>\n",
              "      <th>1</th>\n",
              "      <td>Afghanistan</td>\n",
              "      <td>2009</td>\n",
              "      <td>4.402</td>\n",
              "      <td>7.540</td>\n",
              "      <td>0.552</td>\n",
              "      <td>51.20</td>\n",
              "      <td>0.679</td>\n",
              "      <td>0.190</td>\n",
              "      <td>0.850</td>\n",
              "      <td>0.584</td>\n",
              "      <td>0.237</td>\n",
              "    </tr>\n",
              "    <tr>\n",
              "      <th>2</th>\n",
              "      <td>Afghanistan</td>\n",
              "      <td>2010</td>\n",
              "      <td>4.758</td>\n",
              "      <td>7.647</td>\n",
              "      <td>0.539</td>\n",
              "      <td>51.60</td>\n",
              "      <td>0.600</td>\n",
              "      <td>0.121</td>\n",
              "      <td>0.707</td>\n",
              "      <td>0.618</td>\n",
              "      <td>0.275</td>\n",
              "    </tr>\n",
              "    <tr>\n",
              "      <th>3</th>\n",
              "      <td>Afghanistan</td>\n",
              "      <td>2011</td>\n",
              "      <td>3.832</td>\n",
              "      <td>7.620</td>\n",
              "      <td>0.521</td>\n",
              "      <td>51.92</td>\n",
              "      <td>0.496</td>\n",
              "      <td>0.162</td>\n",
              "      <td>0.731</td>\n",
              "      <td>0.611</td>\n",
              "      <td>0.267</td>\n",
              "    </tr>\n",
              "    <tr>\n",
              "      <th>4</th>\n",
              "      <td>Afghanistan</td>\n",
              "      <td>2012</td>\n",
              "      <td>3.783</td>\n",
              "      <td>7.705</td>\n",
              "      <td>0.521</td>\n",
              "      <td>52.24</td>\n",
              "      <td>0.531</td>\n",
              "      <td>0.236</td>\n",
              "      <td>0.776</td>\n",
              "      <td>0.710</td>\n",
              "      <td>0.268</td>\n",
              "    </tr>\n",
              "  </tbody>\n",
              "</table>\n",
              "</div>"
            ],
            "text/plain": [
              "  Country name  year  ...  Positive affect  Negative affect\n",
              "0  Afghanistan  2008  ...            0.518            0.258\n",
              "1  Afghanistan  2009  ...            0.584            0.237\n",
              "2  Afghanistan  2010  ...            0.618            0.275\n",
              "3  Afghanistan  2011  ...            0.611            0.267\n",
              "4  Afghanistan  2012  ...            0.710            0.268\n",
              "\n",
              "[5 rows x 11 columns]"
            ]
          },
          "metadata": {
            "tags": []
          },
          "execution_count": 39
        }
      ]
    },
    {
      "cell_type": "markdown",
      "metadata": {
        "id": "PETSsfYUwSsT"
      },
      "source": [
        "#There we are! Everything is all set and this data can be used again! "
      ]
    }
  ]
}